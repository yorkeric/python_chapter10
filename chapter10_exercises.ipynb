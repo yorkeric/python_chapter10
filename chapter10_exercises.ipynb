{
 "cells": [
  {
   "cell_type": "markdown",
   "metadata": {},
   "source": [
    "## Chapter 10\n",
    "### Programming Exercises\n",
    "#### Question 1 - Pet Class"
   ]
  },
  {
   "cell_type": "code",
   "execution_count": 18,
   "metadata": {},
   "outputs": [
    {
     "name": "stdout",
     "output_type": "stream",
     "text": [
      "You entered pet's name is Roxy\n",
      "You entered pet's type is dog\n",
      "You entered pet's age is 10\n",
      "You entered pet's name is Bubba\n",
      "You entered pet's type is cat\n",
      "You entered pet's age is 2\n"
     ]
    }
   ],
   "source": [
    "# Write a class named Pet that is used to store information about a pet.  The program will store pet information in the class and then retrieve from it\n",
    "\n",
    "# Import pet class\n",
    "import pet\n",
    "\n",
    "# Main function\n",
    "def main():\n",
    "    # Call function to get the pet details\n",
    "    pet_details = get_pet_details()    \n",
    "    # Create pet object from the pet details\n",
    "    my_pet = pet.Pet(pet_details[0], pet_details[1], pet_details[2])\n",
    "    # Print the pet details\n",
    "    print_pet_details(my_pet)\n",
    "\n",
    "    # Contine to enter different pet's details\n",
    "    while(True):\n",
    "        # Prompt user if they want to continue\n",
    "        if (input(\"Do you want to continue [y/n]\")) == \"n\":\n",
    "            break\n",
    "        # Call function to get the pet details\n",
    "        pet_details = get_pet_details()    \n",
    "        # Set the pet's name   \n",
    "        my_pet.set_name(pet_details[0])\n",
    "        # Set the pet animal type\n",
    "        my_pet.set_animal_type(pet_details[1])\n",
    "        # Set the pet age\n",
    "        my_pet.set_age(pet_details[2])\n",
    "        # my_pet the pet details\n",
    "        print_pet_details(my_pet)\n",
    "        \n",
    "def print_pet_details(my_pet):\n",
    "    # Print the pet's name by getting it from the pet object    \n",
    "    print(\"You entered pet's name is\", my_pet.get_name())\n",
    "    # Print the pet's type by getting it from the pet object\n",
    "    print(\"You entered pet's type is\", my_pet.get_animal_type())\n",
    "    # Print the pet's age by getting it from the pet object\n",
    "    print(\"You entered pet's age is\", my_pet.get_age())\n",
    "\n",
    "def get_pet_details():\n",
    "    # Prompt user to enter the pet's name\n",
    "    pet_name = input(\"Please enter your pet's name:\")\n",
    "    # Prompt user to enter the pet's type\n",
    "    pet_type = input(\"Please enter your pet's type:\")\n",
    "    # Prompt user to enter the pet's age\n",
    "    pet_age = input(\"Please enter your pet's age:\")\n",
    "    # Return the pet details\n",
    "    return pet_name, pet_type, pet_age\n",
    "\n",
    "# Call main function\n",
    "main()    "
   ]
  },
  {
   "cell_type": "markdown",
   "metadata": {},
   "source": [
    "#### Question 4 - Employee Class"
   ]
  },
  {
   "cell_type": "code",
   "execution_count": 9,
   "metadata": {},
   "outputs": [
    {
     "name": "stdout",
     "output_type": "stream",
     "text": [
      "Employees:\n",
      "---------------------------------------\n",
      "Name: Susan Meyers  | ID Number: 47899  | Department: Accounting  | Job Title: Vice President\n",
      "Name: Mark Jones  | ID Number: 39119  | Department: IT  | Job Title: Programmer\n",
      "Name: Joy rogers  | ID Number: 81774  | Department: Manufacturing  | Job Title: Engineer\n"
     ]
    }
   ],
   "source": [
    "# Write a class named Employee that holes employee details. Create three employee class objects and print the details \n",
    "\n",
    "# Import employee class\n",
    "import employee\n",
    "\n",
    "# Main method\n",
    "def main():\n",
    "\n",
    "    # List of employee objects\n",
    "    employee_list = []\n",
    "\n",
    "    # Create three employee objects\n",
    "    for _ in range(3):\n",
    "        # Prompt user for employee name\n",
    "        name = input(\"Please enter the employee name:\")\n",
    "        # Prompt user for employee ID        \n",
    "        id = input(\"Please enter the employee ID:\")\n",
    "        # Prompt user for employee department        \n",
    "        department = input(\"Please enter the employee department:\")\n",
    "        # Prompt user for employee job title        \n",
    "        job_title = input(\"Please enter the employee job title:\")\n",
    "        # Create employee object with the employee attributes\n",
    "        my_employee = employee.Employee(name, id, department, job_title)\n",
    "        # Add employee to the list of employees\n",
    "        employee_list.append(my_employee)\n",
    "    \n",
    "    #Print the output title    \n",
    "    print(\"Employees:\")\n",
    "    print(\"---------------------------------------\")\n",
    "    # Loop over each employee in the list  \n",
    "    for e in employee_list:\n",
    "        # Print the employee details\n",
    "        print(\"Name:\", e.get_name(), \" | ID Number:\", e.get_id(), \" | Department:\", e.get_department(), \" | Job Title:\", e.get_job_title())\n",
    "        \n",
    "#Call main method\n",
    "main()\n"
   ]
  }
 ],
 "metadata": {
  "kernelspec": {
   "display_name": "Python 3",
   "language": "python",
   "name": "python3"
  },
  "language_info": {
   "codemirror_mode": {
    "name": "ipython",
    "version": 3
   },
   "file_extension": ".py",
   "mimetype": "text/x-python",
   "name": "python",
   "nbconvert_exporter": "python",
   "pygments_lexer": "ipython3",
   "version": "3.11.3"
  },
  "orig_nbformat": 4
 },
 "nbformat": 4,
 "nbformat_minor": 2
}
