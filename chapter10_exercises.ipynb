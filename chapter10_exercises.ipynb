{
 "cells": [
  {
   "cell_type": "markdown",
   "metadata": {},
   "source": [
    "## Chapter 10\n",
    "### Programming Exercises\n",
    "#### Question 1 - Pet Class"
   ]
  },
  {
   "cell_type": "code",
   "execution_count": 9,
   "metadata": {},
   "outputs": [
    {
     "name": "stdout",
     "output_type": "stream",
     "text": [
      "You entered pet's name is Roxy\n",
      "You entered pet's type is dog\n",
      "You entered pet's age is 10\n",
      "You entered pet's name is Bubba\n",
      "You entered pet's type is dog\n",
      "You entered pet's age is 2\n"
     ]
    }
   ],
   "source": [
    "# Write a class named Pet that is used to store information about a pet.  The program will store pet information in the class and then retrieve from it\n",
    "\n",
    "# Pet class\n",
    "class Pet:\n",
    "    # Initialize pet class\n",
    "    def __init__(self, name, animal_type, age):\n",
    "        self.__name = name\n",
    "        self.__animal_type = animal_type\n",
    "        self.__age = age\n",
    "    \n",
    "    # Get the pet name\n",
    "    def get_name(self):\n",
    "        return self.__name\n",
    "    \n",
    "    # Get the animal type\n",
    "    def get_animal_type(self):\n",
    "        return self.__animal_type\n",
    "    \n",
    "    # Get the pet age\n",
    "    def get_age(self):\n",
    "        return self.__age\n",
    "    \n",
    "    # Set the pet name\n",
    "    def set_name(self, name):\n",
    "        self.__name = name\n",
    "    \n",
    "    # Set the pet animal type\n",
    "    def set_animal_type(self, animal_type):\n",
    "        self.__animal_type = animal_type\n",
    "       \n",
    "    # Set the pet age \n",
    "    def set_age(self, age):\n",
    "        self.__age = age\n",
    "\n",
    "# Main function\n",
    "def main():\n",
    "    # Prompt user to enter the pet's name\n",
    "    pet_name = input(\"Please enter your pet's name:\")\n",
    "    # Prompt user to enter the pet's type\n",
    "    pet_type = input(\"Please enter your pet's type:\")\n",
    "    # Prompt user to enter the pet's age\n",
    "    pet_age = input(\"Please enter your pet's age:\")\n",
    "    \n",
    "    # Create the pet object with the initial pet attributes\n",
    "    pet = Pet(pet_name, pet_type, pet_age)\n",
    "    # Print the pet's name by getting it from the pet object\n",
    "    \n",
    "    print(\"You entered pet's name is\", pet.get_name())\n",
    "    # Print the pet's type by getting it from the pet object\n",
    "    print(\"You entered pet's type is\", pet.get_animal_type())\n",
    "    # Print the pet's age by getting it from the pet object\n",
    "    print(\"You entered pet's age is\", pet.get_age())\n",
    "        \n",
    "# Call main function\n",
    "main()    "
   ]
  }
 ],
 "metadata": {
  "kernelspec": {
   "display_name": "Python 3",
   "language": "python",
   "name": "python3"
  },
  "language_info": {
   "codemirror_mode": {
    "name": "ipython",
    "version": 3
   },
   "file_extension": ".py",
   "mimetype": "text/x-python",
   "name": "python",
   "nbconvert_exporter": "python",
   "pygments_lexer": "ipython3",
   "version": "3.11.3"
  },
  "orig_nbformat": 4
 },
 "nbformat": 4,
 "nbformat_minor": 2
}
