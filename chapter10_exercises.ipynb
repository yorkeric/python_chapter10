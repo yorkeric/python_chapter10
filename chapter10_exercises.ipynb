{
 "cells": [
  {
   "cell_type": "markdown",
   "metadata": {},
   "source": [
    "## Chapter 10\n",
    "### Programming Exercises\n",
    "#### Question 1 - Pet Class"
   ]
  },
  {
   "cell_type": "code",
   "execution_count": 6,
   "metadata": {},
   "outputs": [
    {
     "name": "stdout",
     "output_type": "stream",
     "text": [
      "Roxy\n",
      "Bubba\n"
     ]
    }
   ],
   "source": [
    "# Write a class named Pet that is used to store information about a pet.  The program will store pet information in the class and then retrieve from it\n",
    "\n",
    "# Pet class\n",
    "class Pet:\n",
    "    def __init__(self, name, animal_type, age):\n",
    "        self.__name = name\n",
    "        self.__animal_type = animal_type\n",
    "        self.__age = age\n",
    "    \n",
    "    def get_name(self):\n",
    "        return self.__name\n",
    "    \n",
    "    def animal_type(self):\n",
    "        return self.__animal_type\n",
    "    \n",
    "    def get_age(self):\n",
    "        return self.__age\n",
    "    \n",
    "    def set_name(self, name):\n",
    "        self.__name = name\n",
    "    \n",
    "    def set_animal_type(self, animal_type):\n",
    "        self.__animal_type = animal_type\n",
    "        \n",
    "    def set_age(self, age):\n",
    "        self.__age = age\n",
    "\n",
    "# Main function\n",
    "def main():\n",
    "    pet = Pet(\"Roxy\", \"dog\", 10)\n",
    "    print(pet.get_name())\n",
    "    pet.set_name(input(\"Please enter your pet's name:\"))\n",
    "    print(pet.get_name())\n",
    "    \n",
    "# Call main function\n",
    "main()    "
   ]
  }
 ],
 "metadata": {
  "kernelspec": {
   "display_name": "Python 3",
   "language": "python",
   "name": "python3"
  },
  "language_info": {
   "codemirror_mode": {
    "name": "ipython",
    "version": 3
   },
   "file_extension": ".py",
   "mimetype": "text/x-python",
   "name": "python",
   "nbconvert_exporter": "python",
   "pygments_lexer": "ipython3",
   "version": "3.11.3"
  },
  "orig_nbformat": 4
 },
 "nbformat": 4,
 "nbformat_minor": 2
}
